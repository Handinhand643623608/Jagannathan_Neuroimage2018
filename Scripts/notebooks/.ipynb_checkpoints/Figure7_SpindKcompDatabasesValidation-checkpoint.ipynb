{
 "cells": [
  {
   "cell_type": "code",
   "execution_count": 1,
   "metadata": {},
   "outputs": [],
   "source": [
    "import seaborn as sns\n",
    "import numpy as np\n",
    "import pandas as pd\n",
    "import matplotlib.pyplot as plt\n",
    "import matplotlib.pylab as pylab\n",
    "import scipy.io as io\n",
    "sns.set_style(\"darkgrid\", {\"axes.facecolor\": \".9\"})"
   ]
  },
  {
   "cell_type": "code",
   "execution_count": 2,
   "metadata": {},
   "outputs": [],
   "source": [
    "#Set up parameters for the figures..\n",
    "params = {'legend.fontsize': 'x-large',\n",
    "          'figure.figsize': (8, 1),\n",
    "         'axes.labelsize': 'x-large',\n",
    "         'axes.titlesize':'x-large',\n",
    "         'axes.labelweight': 'bold',\n",
    "         'xtick.labelsize':'x-large',\n",
    "         'ytick.labelsize':'x-large'}\n",
    "\n",
    "pylab.rcParams.update(params)\n",
    "pylab.rcParams[\"font.family\"] = \"serif\"\n",
    "pylab.rcParams[\"font.weight\"] = \"heavy\""
   ]
  },
  {
   "cell_type": "code",
   "execution_count": 3,
   "metadata": {},
   "outputs": [],
   "source": [
    "mat_rank = io.loadmat('/work/imagingQ/SpatialAttention_Drowsiness/microMeasuresAlertness_Neuroimage2018/'\n",
    "                       'Scripts/mat_files/rank_spindles.mat')\n",
    "\n",
    "mat_tsanas = io.loadmat('/work/imagingQ/SpatialAttention_Drowsiness/microMeasuresAlertness_Neuroimage2018/'\n",
    "                       'Scripts/mat_files/tsanas_spindles.mat')\n",
    "\n",
    "mat_devuyst = io.loadmat('/work/imagingQ/SpatialAttention_Drowsiness/microMeasuresAlertness_Neuroimage2018/'\n",
    "                       'Scripts/mat_files/devuyst_spindles.mat')\n",
    "\n",
    "spindle_sens = mat_rank['sensitivity']\n",
    "spindle_spec = mat_rank['specificity']\n",
    "spindle_f1 = mat_rank['f1_score']\n",
    "\n",
    "spindle_sens = spindle_sens/100\n",
    "spindle_spec = spindle_spec/100\n",
    "\n",
    "\n",
    "spindle_sens_rank =[]\n",
    "spindle_spec_rank =[]\n",
    "spindle_f1_rank =[]\n",
    "for numdps in range(0, 8):\n",
    "    spindle_sens_rank.append(float(spindle_sens[0,numdps]))\n",
    "    spindle_spec_rank.append(float(spindle_spec[0,numdps]))\n",
    "    spindle_f1_rank.append(float(spindle_f1[0,numdps]))\n",
    "    \n",
    "\n",
    "spindle_sens = mat_tsanas['sensitivity']\n",
    "spindle_spec = mat_tsanas['specificity']\n",
    "spindle_f1 = mat_tsanas['f1_score']\n",
    "\n",
    "spindle_sens = spindle_sens/100\n",
    "spindle_spec = spindle_spec/100\n",
    "\n",
    "\n",
    "spindle_sens_tsanas_a7 =[]\n",
    "spindle_spec_tsanas_a7 =[]\n",
    "spindle_f1_tsanas_a7 =[]\n",
    "for numdps in range(0, 8):\n",
    "    spindle_sens_tsanas_a7.append(float(spindle_sens[0,numdps]))\n",
    "    spindle_spec_tsanas_a7.append(float(spindle_spec[0,numdps]))\n",
    "    spindle_f1_tsanas_a7.append(float(spindle_f1[0,numdps]))\n",
    "    \n",
    "spindle_sens = mat_devuyst['sensitivity']\n",
    "spindle_spec = mat_devuyst['specificity']\n",
    "spindle_f1 = mat_devuyst['f1_score']\n",
    "\n",
    "spindle_sens = spindle_sens/100\n",
    "spindle_spec = spindle_spec/100\n",
    "\n",
    "\n",
    "spindle_sens_devuyst =[]\n",
    "spindle_spec_devuyst =[]\n",
    "spindle_f1_devuyst =[]\n",
    "for numdps in range(0, 8):\n",
    "    spindle_sens_devuyst.append(float(spindle_sens[0,numdps]))\n",
    "    spindle_spec_devuyst.append(float(spindle_spec[0,numdps]))\n",
    "    spindle_f1_devuyst.append(float(spindle_f1[0,numdps]))"
   ]
  },
  {
   "cell_type": "code",
   "execution_count": 4,
   "metadata": {},
   "outputs": [
    {
     "data": {
      "text/plain": [
       "(0.2, 1)"
      ]
     },
     "execution_count": 4,
     "metadata": {},
     "output_type": "execute_result"
    },
    {
     "data": {
      "image/png": "[encoded data removed]",
      "text/plain": [
       "<matplotlib.figure.Figure at 0x7f2db285e390>"
      ]
     },
     "metadata": {},
     "output_type": "display_data"
    }
   ],
   "source": [
    "#Spindle databases evaluation..\n",
    "method = ['devuyst','devuyst','devuyst','devuyst','devuyst','devuyst','devuyst','devuyst',\n",
    "          'tsanas','tsanas','tsanas','tsanas','tsanas','tsanas','tsanas','tsanas',\n",
    "          'rank*','rank*','rank*','rank*','rank*','rank*','rank*','rank*']\n",
    "\n",
    "sensitivity = spindle_sens_devuyst + spindle_sens_tsanas_a7 + spindle_sens_rank\n",
    "specificity = spindle_spec_devuyst + spindle_spec_tsanas_a7 + spindle_spec_rank\n",
    "f1 = spindle_f1_devuyst + spindle_f1_tsanas_a7 + spindle_f1_rank\n",
    "\n",
    "df = pd.DataFrame({'method' : method, 'sensitivity' : sensitivity, 'specificity' : specificity, \n",
    "                   'f1' : f1})\n",
    "\n",
    "medianprops = dict(linestyle='-.', linewidth=0, color='firebrick')\n",
    "meanlineprops = dict(linestyle='--', linewidth=1, color='black')\n",
    "\n",
    "pal = {method: \"r\" if method == \"rank*\" else \"b\" for method in df.method.unique()}\n",
    "pal['tsanas'] = \"g\"\n",
    "# Two subplots\n",
    "f, (ax1, ax2, ax3) = plt.subplots(ncols=3, sharey=True)\n",
    "#st = f.suptitle(\"Spindle performance\", size=12, fontweight='bold')\n",
    "f.text(0.3, 1.2, 'Spindle performance', va='center', fontweight='bold',rotation='horizontal', fontsize=14)\n",
    "sns.boxplot(x=\"sensitivity\", y=\"method\", data=df, whis=np.inf, ax=ax1,palette=pal,showbox=True,dodge=False, \n",
    "            meanprops=meanlineprops, meanline=True,showmeans=False, showfliers=True,showcaps=True,\n",
    "            medianprops=medianprops)\n",
    "sns.stripplot(x=\"sensitivity\", y=\"method\", data=df,jitter=True, linewidth=1, ax=ax1,palette=pal,\n",
    "              edgecolor =\"white\")\n",
    "for patch in ax1.artists:\n",
    "    r, g, b, a = patch.get_facecolor()\n",
    "    patch.set_facecolor((r, g, b, .3))\n",
    "sns.boxplot(x=\"specificity\", y=\"method\", data=df, whis=np.inf, ax=ax2,palette=pal,showbox=True,dodge=False,\n",
    "            meanprops=meanlineprops, meanline=True,showmeans=False, showfliers=True,showcaps=True,\n",
    "            medianprops=medianprops)\n",
    "sns.stripplot(x=\"specificity\", y=\"method\", data=df,jitter=True, linewidth=1, ax=ax2,palette=pal,\n",
    "              edgecolor =\"white\")\n",
    "for patch in ax2.artists:\n",
    "    r, g, b, a = patch.get_facecolor()\n",
    "    patch.set_facecolor((r, g, b, .3))\n",
    "sns.boxplot(x=\"f1\", y=\"method\", data=df, whis=np.inf, ax=ax3,palette=pal,showbox=True, dodge=False,\n",
    "            meanprops=meanlineprops, meanline=True,showmeans=False, showfliers=True,showcaps=True,\n",
    "            medianprops=medianprops)\n",
    "sns.stripplot(x=\"f1\", y=\"method\", data=df,jitter=True, linewidth=1, ax=ax3,palette=pal,edgecolor =\"white\")\n",
    "for patch in ax3.artists:\n",
    "    r, g, b, a = patch.get_facecolor()\n",
    "    patch.set_facecolor((r, g, b, .3))    \n",
    "ax2.set_ylabel('')\n",
    "ax3.set_ylabel('')\n",
    "ax1.set_xticks([0.20,0.40, 0.60,0.80, 1])\n",
    "ax1.axes.xaxis.set_ticklabels(['0.2 ','','0.6 ','','1'])\n",
    "ax1.set_xlim(0.2, 1)\n",
    "ax2.set_xticks([0.20,0.40, 0.60,0.80, 1])\n",
    "ax2.axes.xaxis.set_ticklabels(['0.2 ','','0.6 ','','1'])\n",
    "ax2.set_xlim(0.2, 1)\n",
    "ax3.set_xticks([0.2,0.40, 0.6,0.80, 1])\n",
    "ax3.axes.xaxis.set_ticklabels(['0.2 ','','0.6 ','','1'])\n",
    "ax3.set_xlim(0.2, 1)"
   ]
  },
  {
   "cell_type": "code",
   "execution_count": 5,
   "metadata": {},
   "outputs": [],
   "source": [
    "mat_peak = io.loadmat('/work/imagingQ/SpatialAttention_Drowsiness/microMeasuresAlertness_Neuroimage2018/'\n",
    "                       'Scripts/mat_files/peak_kcomp.mat')\n",
    "\n",
    "mat_devuyst = io.loadmat('/work/imagingQ/SpatialAttention_Drowsiness/microMeasuresAlertness_Neuroimage2018/'\n",
    "                       'Scripts/mat_files/devuyst_kcomp.mat')\n",
    "\n",
    "kcomp_sens = mat_peak['sensitivity']\n",
    "kcomp_spec = mat_peak['specificity']\n",
    "kcomp_f1 = mat_peak['f1_score']\n",
    "\n",
    "kcomp_sens = kcomp_sens/100\n",
    "kcomp_spec = kcomp_spec/100\n",
    "\n",
    "\n",
    "kcomp_sens_peak =[]\n",
    "kcomp_spec_peak =[]\n",
    "kcomp_f1_peak =[]\n",
    "for numdps in range(0, 5):\n",
    "    kcomp_sens_peak.append(float(kcomp_sens[0,numdps]))\n",
    "    kcomp_spec_peak.append(float(kcomp_spec[0,numdps]))\n",
    "    kcomp_f1_peak.append(float(kcomp_f1[0,numdps]))\n",
    "    \n",
    "\n",
    "kcomp_sens = mat_devuyst['sensitivity']\n",
    "kcomp_spec = mat_devuyst['specificity']\n",
    "kcomp_f1 = mat_devuyst['f1_score']\n",
    "\n",
    "kcomp_sens = kcomp_sens/100\n",
    "kcomp_spec = kcomp_spec/100\n",
    "\n",
    "\n",
    "kcomp_sens_devuyst =[]\n",
    "kcomp_spec_devuyst =[]\n",
    "kcomp_f1_devuyst =[]\n",
    "for numdps in range(0, 5):\n",
    "    kcomp_sens_devuyst.append(float(kcomp_sens[0,numdps]))\n",
    "    kcomp_spec_devuyst.append(float(kcomp_spec[0,numdps]))\n",
    "    kcomp_f1_devuyst.append(float(kcomp_f1[0,numdps]))"
   ]
  },
  {
   "cell_type": "code",
   "execution_count": 6,
   "metadata": {},
   "outputs": [
    {
     "data": {
      "text/plain": [
       "(0.2, 1)"
      ]
     },
     "execution_count": 6,
     "metadata": {},
     "output_type": "execute_result"
    },
    {
     "data": {
      "image/png": "[encoded data removed]",
      "text/plain": [
       "<matplotlib.figure.Figure at 0x7f2db285e3d0>"
      ]
     },
     "metadata": {},
     "output_type": "display_data"
    }
   ],
   "source": [
    "method = ['devuyst','devuyst','devuyst','devuyst','devuyst',\n",
    "          'peak*','peak*','peak*','peak*','peak*']\n",
    "\n",
    "sensitivity = kcomp_sens_devuyst + kcomp_sens_peak\n",
    "specificity = kcomp_spec_devuyst + kcomp_spec_peak\n",
    "f1 = kcomp_f1_devuyst + kcomp_f1_peak \n",
    "df = pd.DataFrame({'method' : method, 'sensitivity' : sensitivity, 'specificity' : specificity, \n",
    "                   'f1' : f1})\n",
    "pal['peak*'] = \"r\"\n",
    "\n",
    "\n",
    "f, (ax1, ax2, ax3) = plt.subplots(ncols=3, sharey=True)\n",
    "f.text(0.3, 1.2, 'Kcomplex performance', va='center', fontweight='bold',rotation='horizontal', fontsize=14)\n",
    "\n",
    "sns.boxplot(x=\"sensitivity\", y=\"method\", data=df, whis=np.inf, ax=ax1,palette=pal,showbox=True,dodge=False, \n",
    "            meanprops=meanlineprops, meanline=True,showmeans=False, showfliers=True,showcaps=True,\n",
    "            medianprops=medianprops)\n",
    "sns.stripplot(x=\"sensitivity\", y=\"method\", data=df,jitter=True, linewidth=1, ax=ax1,palette=pal,\n",
    "              edgecolor =\"white\")\n",
    "for patch in ax1.artists:\n",
    "    r, g, b, a = patch.get_facecolor()\n",
    "    patch.set_facecolor((r, g, b, .3))\n",
    "sns.boxplot(x=\"specificity\", y=\"method\", data=df, whis=np.inf, ax=ax2,palette=pal,showbox=True,dodge=False,\n",
    "            meanprops=meanlineprops, meanline=True,showmeans=False, showfliers=True,showcaps=True,\n",
    "            medianprops=medianprops)\n",
    "sns.stripplot(x=\"specificity\", y=\"method\", data=df,jitter=True, linewidth=1, ax=ax2,palette=pal,\n",
    "              edgecolor =\"white\")\n",
    "for patch in ax2.artists:\n",
    "    r, g, b, a = patch.get_facecolor()\n",
    "    patch.set_facecolor((r, g, b, .3))\n",
    "sns.boxplot(x=\"f1\", y=\"method\", data=df, whis=np.inf, ax=ax3,palette=pal,showbox=True,dodge=False,\n",
    "            meanprops=meanlineprops, meanline=True,showmeans=False, showfliers=True,showcaps=True,\n",
    "            medianprops=medianprops)\n",
    "sns.stripplot(x=\"f1\", y=\"method\", data=df,jitter=True, linewidth=1, ax=ax3,palette=pal,edgecolor =\"white\")\n",
    "for patch in ax3.artists:\n",
    "    r, g, b, a = patch.get_facecolor()\n",
    "    patch.set_facecolor((r, g, b, .3))    \n",
    "ax2.set_ylabel('')\n",
    "ax3.set_ylabel('')\n",
    "ax1.set_xticks([0.20,0.40, 0.60, 0.80, 1])\n",
    "ax1.axes.xaxis.set_ticklabels(['0.2 ','','0.6 ','','1'])\n",
    "ax1.set_xlim(0.2, 1)\n",
    "ax2.set_xticks([0.20,0.40, 0.60,0.80, 1])\n",
    "ax2.axes.xaxis.set_ticklabels(['0.2 ','','0.6 ','','1'])\n",
    "ax2.set_xlim(0.2, 1)\n",
    "ax3.set_xticks([0.2,0.40, 0.6,0.80, 1])\n",
    "ax3.axes.xaxis.set_ticklabels(['0.2 ','','0.6 ','','1'])\n",
    "ax3.set_xlim(0.2, 1)"
   ]
  },
  {
   "cell_type": "code",
   "execution_count": null,
   "metadata": {},
   "outputs": [],
   "source": []
  }
 ],
 "metadata": {
  "kernelspec": {
   "display_name": "Python 2",
   "language": "python",
   "name": "python2"
  },
  "language_info": {
   "codemirror_mode": {
    "name": "ipython",
    "version": 2
   },
   "file_extension": ".py",
   "mimetype": "text/x-python",
   "name": "python",
   "nbconvert_exporter": "python",
   "pygments_lexer": "ipython2",
   "version": "2.7.14"
  }
 },
 "nbformat": 4,
 "nbformat_minor": 2
}
