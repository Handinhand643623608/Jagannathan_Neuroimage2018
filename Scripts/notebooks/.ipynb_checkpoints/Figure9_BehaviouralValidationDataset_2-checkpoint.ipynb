{
 "cells": [
  {
   "cell_type": "code",
   "execution_count": 1,
   "metadata": {},
   "outputs": [],
   "source": [
    "%load_ext rpy2.ipython"
   ]
  },
  {
   "cell_type": "code",
   "execution_count": 2,
   "metadata": {},
   "outputs": [],
   "source": [
    "import seaborn as sns\n",
    "import numpy as np\n",
    "import pandas as pd\n",
    "import csv\n",
    "import matplotlib.pylab as pylab\n",
    "import matplotlib.pyplot as plt\n",
    "import rpy2.robjects as robjects\n",
    "from rpy2.robjects.packages import importr\n",
    "from rpy2.robjects import pandas2ri\n",
    "sns.set_style(\"darkgrid\", {\"axes.facecolor\": \".9\"})\n",
    "paper_rc = {'lines.linewidth': 0.4, 'lines.markersize': 1}                  \n",
    "sns.set_context(\"paper\", rc = paper_rc)"
   ]
  },
  {
   "cell_type": "code",
   "execution_count": 3,
   "metadata": {},
   "outputs": [],
   "source": [
    "def str_join(*args):\n",
    "    return ''.join(map(str, args))"
   ]
  },
  {
   "cell_type": "code",
   "execution_count": 4,
   "metadata": {},
   "outputs": [],
   "source": [
    "#Set up parameters for the figures..\n",
    "params = {'legend.fontsize': 'x-large',\n",
    "          'figure.figsize': (12, 4),\n",
    "         'axes.labelsize': 'x-large',\n",
    "         'axes.titlesize':'x-large',\n",
    "         'axes.labelweight': 'bold',\n",
    "         'xtick.labelsize':'x-large',\n",
    "         'ytick.labelsize':'x-large'}\n",
    "\n",
    "\n",
    "pylab.rcParams.update(params)\n",
    "pylab.rcParams[\"font.family\"] = \"serif\"\n",
    "pylab.rcParams[\"font.weight\"] = \"heavy\""
   ]
  },
  {
   "cell_type": "code",
   "execution_count": 5,
   "metadata": {},
   "outputs": [],
   "source": [
    "%%R\n",
    "rm(list = ls())  #remove elements from current workspace\n",
    "#library(\"gdata\")                   # load gdata package \n",
    "library(\"ggplot2\")\n",
    "library(\"psyphy\")\n",
    "library(\"shape\")\n",
    "library(\"RColorBrewer\")\n",
    "library(\"reshape2\")\n",
    "library(\"ggbeeswarm\")\n",
    "library(\"cvequality\")"
   ]
  },
  {
   "cell_type": "code",
   "execution_count": 6,
   "metadata": {},
   "outputs": [],
   "source": [
    "%%R\n",
    "#Choose the manual hori data ratings first..\n",
    "filename <-file.path(\"/work/imagingQ/SpatialAttention_Drowsiness/microMeasuresAlertness_Neuroimage2018/\",\n",
    "                     \"Scripts/validation/RT_Hori_RT_1.csv\")\n",
    "myoveralldata = read.csv(filename, header=TRUE, \n",
    "                         col.names=c(\"subj_id\",\"RT\",\"State\"), \n",
    "                         row.names=NULL) # read csv file\n",
    "colnames(myoveralldata) <- c(\"subj_id\",\"RT\",\"State\",\"unused\")\n",
    "rm_columns <- c(\"unused\") # if you want to remove multiple columns\n",
    "myoveralldata <- myoveralldata[, ! names(myoveralldata) %in% rm_columns, drop = F]\n",
    "myoveralldata$State <- ordered(myoveralldata$State,\n",
    "                     levels = c(1, 2, 3),\n",
    "                     labels = c(\"Alert\", \"Drowsy(mild)\", \"Drowsy(severe)\"))\n",
    "\n",
    "#remove the outliers first..\n",
    "tempval <- !myoveralldata$RT %in% boxplot.stats(myoveralldata$RT)$out\n",
    "\n",
    "myoveralldata <- myoveralldata[tempval,]\n",
    "\n",
    "#head(myoveralldata)\n",
    "\n",
    "filename <-file.path(\"/work/imagingQ/SpatialAttention_Drowsiness/microMeasuresAlertness_Neuroimage2018/\",\n",
    "                     \"Scripts/validation/RT_Hori_processed_1.csv\")\n",
    "\n",
    "write.csv(myoveralldata, file = filename,row.names=FALSE, na=\"\")"
   ]
  },
  {
   "cell_type": "code",
   "execution_count": 7,
   "metadata": {},
   "outputs": [
    {
     "data": {
      "text/plain": [
       "Hori(manual)-D'AD:  12.38931\n",
       "Hori(manual)-p_value:  0.002040308"
      ]
     },
     "metadata": {},
     "output_type": "display_data"
    }
   ],
   "source": [
    "%%R\n",
    "handaxes_asymptotic_test_hori <-with(myoveralldata,asymptotic_test(RT,State))\n",
    "cat(\"Hori(manual)-D'AD: \", handaxes_asymptotic_test_hori$D_AD)\n",
    "cat(\"\\nHori(manual)-p_value: \", handaxes_asymptotic_test_hori$p_value)"
   ]
  },
  {
   "cell_type": "code",
   "execution_count": 8,
   "metadata": {},
   "outputs": [],
   "source": [
    "df_horistat = robjects.r('handaxes_asymptotic_test_hori')\n",
    "hori_stat_DAD = np.squeeze(pandas2ri.ri2py(df_horistat[0]))\n",
    "hori_stat_pvalue = np.squeeze(pandas2ri.ri2py(df_horistat[1]))\n",
    "hori_string = str_join(\"D'AD=\",str(round(hori_stat_DAD,2)),\", p<0.005\")"
   ]
  },
  {
   "cell_type": "code",
   "execution_count": 9,
   "metadata": {},
   "outputs": [],
   "source": [
    "%%R\n",
    "#Choose the micro-measures ratings..\n",
    "filename <-file.path(\"/work/imagingQ/SpatialAttention_Drowsiness/microMeasuresAlertness_Neuroimage2018/\",\n",
    "                     \"Scripts/validation/RT_Algo_RT_1.csv\")\n",
    "myoveralldata = read.csv(filename, header=TRUE, \n",
    "                         col.names=c(\"subj_id\",\"RT\",\"State\"), \n",
    "                         row.names=NULL) # read csv file\n",
    "colnames(myoveralldata) <- c(\"subj_id\",\"RT\",\"State\",\"unused\")\n",
    "rm_columns <- c(\"unused\") # if you want to remove multiple columns\n",
    "myoveralldata <- myoveralldata[, ! names(myoveralldata) %in% rm_columns, drop = F]\n",
    "myoveralldata$State <- ordered(myoveralldata$State,\n",
    "                     levels = c(1, 2, 3),\n",
    "                     labels = c(\"Alert\", \"Drowsy(mild)\", \"Drowsy(severe)\"))\n",
    "\n",
    "#remove the outliers first..\n",
    "tempval <- !myoveralldata$RT %in% boxplot.stats(myoveralldata$RT)$out\n",
    "\n",
    "myoveralldata <- myoveralldata[tempval,]\n",
    "\n",
    "#head(myoveralldata)\n",
    "filename <-file.path(\"/work/imagingQ/SpatialAttention_Drowsiness/microMeasuresAlertness_Neuroimage2018/\",\n",
    "                     \"Scripts/validation/RT_Algo_processed_1.csv\")\n",
    "\n",
    "write.csv(myoveralldata, file = filename,row.names=FALSE, na=\"\")"
   ]
  },
  {
   "cell_type": "code",
   "execution_count": 10,
   "metadata": {},
   "outputs": [
    {
     "data": {
      "text/plain": [
       "micro-measures-D'AD:  13.11884\n",
       "micro-measures-p_value:  0.001416711"
      ]
     },
     "metadata": {},
     "output_type": "display_data"
    }
   ],
   "source": [
    "%%R\n",
    "handaxes_asymptotic_test_algo <-with(myoveralldata,asymptotic_test(RT,State))\n",
    "cat(\"micro-measures-D'AD: \", handaxes_asymptotic_test_algo$D_AD)\n",
    "cat(\"\\nmicro-measures-p_value: \", handaxes_asymptotic_test_algo$p_value)"
   ]
  },
  {
   "cell_type": "code",
   "execution_count": 11,
   "metadata": {},
   "outputs": [],
   "source": [
    "df_algostat = robjects.r('handaxes_asymptotic_test_algo')\n",
    "algo_stat_DAD = np.squeeze(pandas2ri.ri2py(df_algostat[0]))\n",
    "algo_stat_pvalue = np.squeeze(pandas2ri.ri2py(df_algostat[1]))\n",
    "algo_string = str_join(\"D'AD=\",str(round(algo_stat_DAD,2)),\", p<0.005\")"
   ]
  },
  {
   "cell_type": "code",
   "execution_count": 12,
   "metadata": {},
   "outputs": [],
   "source": [
    "%%R\n",
    "#Choose the alpha-theta ratings..\n",
    "filename <-file.path(\"/work/imagingQ/SpatialAttention_Drowsiness/microMeasuresAlertness_Neuroimage2018/\",\n",
    "                     \"Scripts/validation/RT_AlphaTheta_RT_1.csv\")\n",
    "myoveralldata = read.csv(filename, header=TRUE, \n",
    "                         col.names=c(\"subj_id\",\"RT\",\"State\"), \n",
    "                         row.names=NULL) # read csv file\n",
    "colnames(myoveralldata) <- c(\"subj_id\",\"RT\",\"State\",\"unused\")\n",
    "rm_columns <- c(\"unused\") # if you want to remove multiple columns\n",
    "myoveralldata <- myoveralldata[, ! names(myoveralldata) %in% rm_columns, drop = F]\n",
    "myoveralldata$State <- ordered(myoveralldata$State,\n",
    "                     levels = c(1, 2, 3),\n",
    "                     labels = c(\"Alert\", \"Drowsy(mild)\", \"Drowsy(severe)\"))\n",
    "\n",
    "#remove the outliers first..\n",
    "tempval <- !myoveralldata$RT %in% boxplot.stats(myoveralldata$RT)$out\n",
    "\n",
    "myoveralldata <- myoveralldata[tempval,]\n",
    "\n",
    "#head(myoveralldata)\n",
    "filename <-file.path(\"/work/imagingQ/SpatialAttention_Drowsiness/microMeasuresAlertness_Neuroimage2018/\",\n",
    "                     \"Scripts/validation/RT_AlphaTheta_processed_1.csv\")\n",
    "\n",
    "write.csv(myoveralldata, file = filename,row.names=FALSE, na=\"\")"
   ]
  },
  {
   "cell_type": "code",
   "execution_count": 13,
   "metadata": {},
   "outputs": [
    {
     "data": {
      "text/plain": [
       "alpha-theta-D'AD:  1.974589\n",
       "alpha-theta-p_value:  0.3725834"
      ]
     },
     "metadata": {},
     "output_type": "display_data"
    }
   ],
   "source": [
    "%%R\n",
    "handaxes_asymptotic_test_alphatheta <-with(myoveralldata,asymptotic_test(RT,State))\n",
    "cat(\"alpha-theta-D'AD: \", handaxes_asymptotic_test_alphatheta$D_AD)\n",
    "cat(\"\\nalpha-theta-p_value: \", handaxes_asymptotic_test_alphatheta$p_value)"
   ]
  },
  {
   "cell_type": "code",
   "execution_count": 14,
   "metadata": {},
   "outputs": [],
   "source": [
    "df_alphathetastat = robjects.r('handaxes_asymptotic_test_alphatheta')\n",
    "alphatheta_stat_DAD = np.squeeze(pandas2ri.ri2py(df_alphathetastat[0]))\n",
    "alphatheta_stat_pvalue = np.squeeze(pandas2ri.ri2py(df_alphathetastat[1]))\n",
    "alphatheta_string = str_join(\"D'AD=\",str(round(alphatheta_stat_DAD,2)),\", p>0.05\")"
   ]
  },
  {
   "cell_type": "code",
   "execution_count": 15,
   "metadata": {},
   "outputs": [
    {
     "data": {
      "text/plain": [
       "[<matplotlib.text.Text at 0x7f36a237b210>,\n",
       " <matplotlib.text.Text at 0x7f36a237be50>,\n",
       " <matplotlib.text.Text at 0x7f36a181c550>,\n",
       " <matplotlib.text.Text at 0x7f36a181cad0>,\n",
       " <matplotlib.text.Text at 0x7f36a1827090>,\n",
       " <matplotlib.text.Text at 0x7f36a1827610>]"
      ]
     },
     "execution_count": 15,
     "metadata": {},
     "output_type": "execute_result"
    },
    {
     "data": {
      "image/png": "[encoded data removed]",
      "text/plain": [
       "<matplotlib.figure.Figure at 0x7f36a7a95050>"
      ]
     },
     "metadata": {},
     "output_type": "display_data"
    }
   ],
   "source": [
    "subj_id =[]\n",
    "RT = []\n",
    "State = []\n",
    "\n",
    "with open('/work/imagingQ/SpatialAttention_Drowsiness/microMeasuresAlertness_Neuroimage2018/Scripts/'\n",
    "          'validation/RT_Hori_processed_1.csv') as csvDataFile:\n",
    "    csvReader = csv.reader(csvDataFile)\n",
    "    for row in csvReader:\n",
    "        subj_id.append(row[0])\n",
    "        RT.append(row[1])\n",
    "        State.append(row[2])\n",
    "        \n",
    "       \n",
    "subj_id.pop(0)\n",
    "RT.pop(0)\n",
    "State.pop(0)\n",
    "\n",
    "\n",
    "dic = {'Drowsy(mild)':'Drowsy\\n(mild)','Drowsy(severe)':'Drowsy\\n(severe)'}\n",
    "\n",
    "State_mod = ([dic.get(n, n) for n in State])\n",
    "RT = np.array(RT).astype(np.float)\n",
    "df_hori = pd.DataFrame({'State' : State_mod, 'RT' : RT, 'sujbid': subj_id})\n",
    "\n",
    "pal = {State: \"g\" if State == 'Alert' else \"b\" for State in df_hori.State.unique()}\n",
    "pal['Drowsy\\n(severe)'] = \"r\"\n",
    "\n",
    "capprops  = {'linewidth': 0}\n",
    "\n",
    "f, (ax1, ax2, ax3) = plt.subplots(ncols=3, sharex=True)\n",
    "f.text(0.40, 1.0, 'Behavioral Validation', va='center', fontweight='bold',rotation='horizontal', fontsize=18)\n",
    "sns.violinplot(x=\"State\", y=\"RT\", data=df_hori, ax=ax1,palette=pal,inner=None,scale='area', width = 0.8,\n",
    "               bw=0.2, cut=0)\n",
    "sns.boxplot(\"State\", \"RT\", data=df_hori, ax=ax1,boxprops={'facecolor':'None'}, showfliers=False,\n",
    "            linewidth = 1,width = 0.25, capprops  = capprops )\n",
    "plt.setp(ax1.collections, alpha=.6)\n",
    "ax1.set(ylabel='RT(sec)')\n",
    "ax1.set(xlabel='Manual(Hori)')\n",
    "\n",
    "\n",
    "subj_id =[]\n",
    "RT = []\n",
    "State = []\n",
    "\n",
    "with open('/work/imagingQ/SpatialAttention_Drowsiness/microMeasuresAlertness_Neuroimage2018/Scripts/'\n",
    "          'validation/RT_Algo_processed_1.csv') as csvDataFile:\n",
    "    csvReader = csv.reader(csvDataFile)\n",
    "    for row in csvReader:\n",
    "        subj_id.append(row[0])\n",
    "        RT.append(row[1])\n",
    "        State.append(row[2])\n",
    "\n",
    "       \n",
    "subj_id.pop(0)\n",
    "RT.pop(0)\n",
    "State.pop(0)\n",
    "\n",
    "\n",
    "dic = {'Drowsy(mild)':'Drowsy\\n(mild)','Drowsy(severe)':'Drowsy\\n(severe)'}\n",
    "\n",
    "State_mod = ([dic.get(n, n) for n in State])\n",
    "RT = np.array(RT).astype(np.float)\n",
    "df_algo = pd.DataFrame({'State' : State_mod, 'RT' : RT, 'sujbid': subj_id})\n",
    "\n",
    "pal = {State: \"g\" if State == 'Alert' else \"b\" for State in df_algo.State.unique()}\n",
    "pal['Drowsy\\n(severe)'] = \"r\"\n",
    "\n",
    "sns.violinplot(x=\"State\", y=\"RT\", data=df_algo, ax=ax2,palette=pal,inner=None,scale='area',width = 0.8, \n",
    "               bw=0.2, cut=0)\n",
    "sns.boxplot(\"State\", \"RT\", data=df_algo, ax=ax2,boxprops={'facecolor':'None'}, showfliers=False,\n",
    "            linewidth = 1,width = 0.25, capprops  = capprops )\n",
    "plt.setp(ax2.collections, alpha=.6)\n",
    "ax2.set(ylabel='')\n",
    "ax2.set(xlabel='micro-measures')\n",
    "\n",
    "\n",
    "subj_id =[]\n",
    "RT = []\n",
    "State = []\n",
    "\n",
    "with open('/work/imagingQ/SpatialAttention_Drowsiness/microMeasuresAlertness_Neuroimage2018/Scripts/'\n",
    "          'validation/RT_AlphaTheta_processed_1.csv') as csvDataFile:\n",
    "    csvReader = csv.reader(csvDataFile)\n",
    "    for row in csvReader:\n",
    "        subj_id.append(row[0])\n",
    "        RT.append(row[1])\n",
    "        State.append(row[2])\n",
    "       \n",
    "subj_id.pop(0)\n",
    "RT.pop(0)\n",
    "State.pop(0)\n",
    "\n",
    "dic = {'Drowsy(mild)':'Drowsy\\n(mild)','Drowsy(severe)':'Drowsy\\n(severe)'}\n",
    "\n",
    "State_mod = ([dic.get(n, n) for n in State])\n",
    "RT = np.array(RT).astype(np.float)\n",
    "df_alphatheta = pd.DataFrame({'State' : State_mod, 'RT' : RT, 'sujbid': subj_id})\n",
    "\n",
    "pal = {State: \"g\" if State == 'Alert' else \"b\" for State in df_alphatheta.State.unique()}\n",
    "pal['Drowsy\\n(severe)'] = \"r\"\n",
    "\n",
    "sns.violinplot(x=\"State\", y=\"RT\", data=df_alphatheta, ax=ax3,palette=pal,inner=None,scale='area', \n",
    "               width = 0.8,bw=0.2, cut=0)\n",
    "sns.boxplot(\"State\", \"RT\", data=df_alphatheta, ax=ax3,boxprops={'facecolor':'None'}, showfliers=False,\n",
    "            linewidth = 1,width = 0.25, capprops  = capprops )\n",
    "plt.setp(ax3.collections, alpha=.6)\n",
    "ax3.set(ylabel='')\n",
    "ax3.set(xlabel='Alpha-Theta')\n",
    "\n",
    "# statistical annotation\n",
    "x1, x2 = 0.0, 3.95\n",
    "y,h = 4400, 0.65\n",
    "col = 'k' \n",
    "ax1.text((x1+x2)*.25, y+h, hori_string, ha='center',fontsize=12, va='bottom', color=col)\n",
    "\n",
    "x1, x2 = -1.75, 3.95\n",
    "y,h = 4400, 0.65\n",
    "col = 'k' \n",
    "ax2.text((x1+x2)*.5, y+h, algo_string, ha='center',fontsize=12, va='bottom', color=col)\n",
    "\n",
    "x1, x2 = -1.75, 3.95\n",
    "y,h = 4400, 0.65\n",
    "col = 'k' \n",
    "ax3.text((x1+x2)*.5, y+h, alphatheta_string, ha='center',fontsize=12, va='bottom', color=col)\n",
    "\n",
    "ax1.set_ylim(0, 5000)\n",
    "ax1.set_yticks([0,1000,2000,3000,4000,5000])\n",
    "ax1.axes.yaxis.set_ticklabels(['','1','2','3','4','5',])\n",
    "\n",
    "ax2.set_ylim(0, 5000)\n",
    "ax2.set_yticks([0,1000,2000,3000,4000,5000])\n",
    "ax2.axes.yaxis.set_ticklabels(['','1','2','3','4','5',])\n",
    "\n",
    "ax3.set_ylim(0, 5000)\n",
    "ax3.set_yticks([0,1000,2000,3000,4000,5000])\n",
    "ax3.axes.yaxis.set_ticklabels(['','1','2','3','4','5',])\n",
    "\n"
   ]
  },
  {
   "cell_type": "code",
   "execution_count": null,
   "metadata": {},
   "outputs": [],
   "source": []
  }
 ],
 "metadata": {
  "kernelspec": {
   "display_name": "Python 2",
   "language": "python",
   "name": "python2"
  },
  "language_info": {
   "codemirror_mode": {
    "name": "ipython",
    "version": 2
   },
   "file_extension": ".py",
   "mimetype": "text/x-python",
   "name": "python",
   "nbconvert_exporter": "python",
   "pygments_lexer": "ipython2",
   "version": "2.7.14"
  }
 },
 "nbformat": 4,
 "nbformat_minor": 2
}
